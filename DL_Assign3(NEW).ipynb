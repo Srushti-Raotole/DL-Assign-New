{
  "nbformat": 4,
  "nbformat_minor": 0,
  "metadata": {
    "colab": {
      "provenance": []
    },
    "kernelspec": {
      "name": "python3",
      "display_name": "Python 3"
    },
    "language_info": {
      "name": "python"
    }
  },
  "cells": [
    {
      "cell_type": "code",
      "execution_count": null,
      "metadata": {
        "id": "OdgD1dx_BE9n"
      },
      "outputs": [],
      "source": [
        "import tensorflow as tf\n",
        "from keras.models import Sequential\n",
        "from keras.layers import Dense, Conv2D, Dropout, Flatten, MaxPooling2D\n",
        "import matplotlib.pyplot as plt\n",
        "import numpy as np\n",
        "\n",
        "\n",
        "\n",
        "\n",
        "#Loading and preprocessing the image data\n",
        "\n",
        "mnist=tf.keras.datasets.mnist\n",
        "(x_train, y_train),(x_test,y_test)=mnist.load_data()\n",
        "input_shape=(28,28,1)\n",
        "\n",
        "\n",
        "\n",
        "#The model expects a 4D tensor input, so each 2D image (28x28)\n",
        "\n",
        "x_train=x_train.reshape(x_train.shape[0],28,28,1)\n",
        "x_test=x_test.reshape(x_test.shape[0],28,28,1)\n",
        "\n",
        "\n",
        "#making sure that the values are in float so that we can get decimal points after division as it is required by tensorflow\n",
        "\n",
        "x_train=x_train.astype('float32')\n",
        "x_test=x_test.astype('float32')\n",
        "\n",
        "\n",
        "\n",
        "x_train=x_train/255\n",
        "x_test=x_test/255\n",
        "\n",
        "\n",
        "\n",
        "\n",
        "\n",
        "\n",
        "\n",
        "model=Sequential()\n",
        "model.add(Conv2D(28,kernel_size=(3,3), input_shape=input_shape))\n",
        "model.add(MaxPooling2D(pool_size=(2,2)))\n",
        "model.add(Flatten())\n",
        "model.add(Dense(200,activation='relu'))\n",
        "model.add(Dropout(0.3))\n",
        "model.add(Dense(10, activation='softmax'))\n",
        "\n",
        "model.summary()\n",
        "\n",
        "\n",
        "\n",
        "\n",
        "#Training the mode;\n",
        "\n",
        "\n",
        "model.compile(optimizer='adam', loss='sparse_categorical_crossentropy', metrics=['accuracy'])\n",
        "model.fit(x_train, y_train, epochs=2)\n",
        "\n",
        "#Estimating the model\n",
        "\n",
        "test_loss, test_acc=model.evaluate(x_test, y_test)\n",
        "print(\"Loss=%0.3f\" %test_loss)\n",
        "print(\"Accuracy=%0.3f\" %test_acc)\n",
        "\n",
        "\n",
        "\n",
        "n = 30\n",
        "plt.imshow(x_test[n].reshape(28, 28), cmap='gray')\n",
        "predicted_value = model.predict(x_test)\n",
        "print(\"Actual Number:\", y_test[n])\n",
        "print(\"Predicted Number:\", np.argmax(predicted_value[n]))"
      ]
    }
  ]
}